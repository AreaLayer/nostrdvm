{
 "cells": [
  {
   "cell_type": "markdown",
   "id": "c1935f9d-02db-468c-ade3-87f164b6d4f6",
   "metadata": {},
   "source": [
    "# Pagerank on subgraphs—efficient Monte-Carlo estimation\n",
    "\n",
    "In this repo you can find the reference code for my novel Subrank algorithm for efficiently computing the Pagerank distribution over $S$ subgraph of $G$.\n",
    "For the reasoning behind the algorithm, the definition and the analysis, I invite the interested reader to [read the paper](https://pippellia.com/pippellia/Social+Graph/Pagerank+on+subgraphs%E2%80%94efficient+Monte-Carlo+estimation).\n",
    "\n",
    "To play with it, follow these steps:"
   ]
  },
  {
   "cell_type": "markdown",
   "id": "bcce6ba6-2539-4bd3-85c8-608eb83bfeb3",
   "metadata": {},
   "source": [
    "## Step 0: Build and store the Graph"
   ]
  },
  {
   "cell_type": "code",
   "execution_count": 12,
   "outputs": [],
   "source": [
    "# Imports\n",
    "from nostr_dvm.utils.wot_utils import build_network_from, save_network, load_network, get_mc_pagerank, get_subrank\n",
    "import time\n",
    "import networkx as nx\n",
    "import random\n"
   ],
   "metadata": {
    "collapsed": false,
    "ExecuteTime": {
     "end_time": "2024-07-30T10:08:53.401249Z",
     "start_time": "2024-07-30T10:08:53.392291Z"
    }
   },
   "id": "5ac404375ef61608"
  },
  {
   "cell_type": "code",
   "execution_count": 13,
   "outputs": [],
   "source": [
    "user = '99bb5591c9116600f845107d31f9b59e2f7c7e09a1ff802e84f1d43da557ca64'\n"
   ],
   "metadata": {
    "collapsed": false,
    "ExecuteTime": {
     "end_time": "2024-07-30T10:08:55.064034Z",
     "start_time": "2024-07-30T10:08:55.058138Z"
    }
   },
   "id": "8d89d517de8b506e"
  },
  {
   "cell_type": "code",
   "execution_count": 14,
   "outputs": [
    {
     "name": "stdout",
     "output_type": "stream",
     "text": [
      "Step 1: fetching kind 3 events from relays & pre-processing\n",
      "current network: 44029 npubs\r\n",
      "Finished in 39.349228858947754\n",
      " > index_map_99bb5591c9116600f845107d31f9b59e2f7c7e09a1ff802e84f1d43da557ca64.json\n",
      " > network_graph_99bb5591c9116600f845107d31f9b59e2f7c7e09a1ff802e84f1d43da557ca64.json\n"
     ]
    }
   ],
   "source": [
    "index_map, network_graph = await build_network_from(user, depth=2, max_batch=500, max_time_request=10)\n",
    "save_network(index_map, network_graph, user)"
   ],
   "metadata": {
    "collapsed": false,
    "ExecuteTime": {
     "end_time": "2024-07-30T10:09:36.764366Z",
     "start_time": "2024-07-30T10:08:56.071082Z"
    }
   },
   "id": "c5de7bf0bac361ff"
  },
  {
   "cell_type": "markdown",
   "id": "c68b3da4-39c0-4fb0-8687-f08aea70f25d",
   "metadata": {},
   "source": [
    "## Step 1: load the graph database\n",
    "\n",
    "First, you have to load the networkx graph database into memory by running the following code."
   ]
  },
  {
   "cell_type": "code",
   "execution_count": 15,
   "id": "f5a48d91-80e1-4016-8030-9ac9ef0ab1af",
   "metadata": {
    "ExecuteTime": {
     "end_time": "2024-07-30T10:09:48.642929Z",
     "start_time": "2024-07-30T10:09:47.534981Z"
    }
   },
   "outputs": [
    {
     "name": "stdout",
     "output_type": "stream",
     "text": [
      "loading the database...\n",
      "finished in 1.1044838428497314 seconds\n"
     ]
    }
   ],
   "source": [
    "# loading the database\n",
    "print('loading the database...')\n",
    "tic = time.time()\n",
    "\n",
    "index_map, G = load_network(user)\n",
    "\n",
    "toc = time.time()\n",
    "print(f'finished in {toc-tic} seconds')"
   ]
  },
  {
   "cell_type": "markdown",
   "id": "33a1dc28-5af4-4097-9987-103520588f81",
   "metadata": {},
   "source": [
    "## Step 2: Compute Pagerank over $G$\n",
    "\n",
    "Compute the pagerank over $G$ by using the networkx built-in pagerank function that uses the power iteration method.\n",
    "This vector will be considered as the real Pagerank vector and will be used to compute the errors of the Monte-Carlo algorithm."
   ]
  },
  {
   "cell_type": "code",
   "execution_count": 16,
   "id": "bc5a4f83-d5b9-4def-a7f7-403cd0beedfe",
   "metadata": {
    "ExecuteTime": {
     "end_time": "2024-07-30T10:09:52.561819Z",
     "start_time": "2024-07-30T10:09:51.533522Z"
    }
   },
   "outputs": [
    {
     "name": "stdout",
     "output_type": "stream",
     "text": [
      "computing global pagerank...\n",
      "finished in 1.036012887954712 seconds\n"
     ]
    }
   ],
   "source": [
    "# computing the pagerank\n",
    "print('computing global pagerank...')\n",
    "tic = time.time()\n",
    "\n",
    "p_G = nx.pagerank(G, tol=1e-12)\n",
    "\n",
    "toc = time.time()\n",
    "print(f'finished in {toc-tic} seconds')"
   ]
  },
  {
   "cell_type": "markdown",
   "id": "50552e62-d66d-4a02-b49f-33c299e8311b",
   "metadata": {},
   "source": [
    "## Step 3: Approximate Pagerank over $G$ using Monte-Carlo\n",
    "\n",
    "Compute the pagerank over $G$ using a simple Monte-Carlo implementation and compute the L1 error.\n",
    "This step is essential because it returns the csr-matrix `walk_visited_count`, that will be used later by the Subrank algorithm."
   ]
  },
  {
   "cell_type": "code",
   "execution_count": 17,
   "id": "68bbe6d2-c19a-4a84-8ba0-13ae2b6e13d6",
   "metadata": {
    "ExecuteTime": {
     "end_time": "2024-07-30T10:09:57.331397Z",
     "start_time": "2024-07-30T10:09:56.433680Z"
    }
   },
   "outputs": [
    {
     "name": "stdout",
     "output_type": "stream",
     "text": [
      "progress = 100%       \r\n",
      "Total walks performed:  440290\n",
      "performed random walks in 1.0430760383605957 seconds\n",
      "error pagerank vs mc pagerank in G = 0.020183034486847724\n"
     ]
    }
   ],
   "source": [
    "# number of the random walks per node\n",
    "R = 10\n",
    "\n",
    "# fix the order of the nodes\n",
    "nodelist = list(G.nodes())\n",
    "\n",
    "tic = time.time()\n",
    "\n",
    "# perform the random walks and get the monte-carlo pagerank\n",
    "walk_visited_count, mc_pagerank = get_mc_pagerank(G, R, nodelist)\n",
    "\n",
    "toc = time.time()\n",
    "print(f'performed random walks in {toc-tic} seconds')\n",
    "\n",
    "# computing the L1 error\n",
    "error_G_mc = sum( abs(p_G[node] - mc_pagerank[node])\n",
    "                  for node in G.nodes() )\n",
    "\n",
    "print(f'error pagerank vs mc pagerank in G = {error_G_mc}')"
   ]
  },
  {
   "cell_type": "markdown",
   "id": "a7a3bf52-7841-4842-a3f2-6f6d066e0c94",
   "metadata": {},
   "source": [
    "## Step 4: Select random subgraph $S$ and compute its Pagerank distribution\n",
    "\n",
    "Select a random subgraph $S$ consisting of 50k nodes, and compute its Pagerank distribution."
   ]
  },
  {
   "cell_type": "code",
   "execution_count": 18,
   "id": "c00c005e-2064-4975-acb6-3bcf52eb8594",
   "metadata": {
    "ExecuteTime": {
     "end_time": "2024-07-30T10:10:05.324793Z",
     "start_time": "2024-07-30T10:10:05.306277Z"
    }
   },
   "outputs": [
    {
     "name": "stdout",
     "output_type": "stream",
     "text": [
      "computing local pagerank...\n",
      "finished in 0.0029449462890625 seconds\n"
     ]
    }
   ],
   "source": [
    "# selecting random subgraph S\n",
    "S_nodes = set(random.sample(list(G.nodes()), k=500)) #50000\n",
    "S = G.subgraph(S_nodes).copy()\n",
    "\n",
    "# computing pagerank over S\n",
    "print('computing local pagerank...')\n",
    "tic = time.time()\n",
    "\n",
    "p_S = nx.pagerank(S, tol=1e-12)\n",
    "\n",
    "toc = time.time()\n",
    "print(f'finished in {toc-tic} seconds')"
   ]
  },
  {
   "cell_type": "markdown",
   "id": "8eb0ae95-87c1-4f5d-890f-42ff5892d881",
   "metadata": {},
   "source": [
    "## Step 5: Approximate Pagerank over $S$ using Subrank\n",
    "\n",
    "Run the Subrank algorithm to approximate the Pagerank over $S$ subgraph of $G$. Then compute the L1 error."
   ]
  },
  {
   "cell_type": "code",
   "execution_count": 19,
   "id": "41637e2b-1998-43ff-9811-a7bbe658d742",
   "metadata": {
    "ExecuteTime": {
     "end_time": "2024-07-30T10:10:07.197429Z",
     "start_time": "2024-07-30T10:10:07.109108Z"
    }
   },
   "outputs": [
    {
     "name": "stdout",
     "output_type": "stream",
     "text": [
      "computing subrank over S...\n",
      "walks performed = 157\n",
      "performed random walks in 0.05398416519165039 seconds\n",
      "error pagerank vs subrank in S = 0.017882599344811713\n"
     ]
    }
   ],
   "source": [
    "# computing subrank\n",
    "print('computing subrank over S...')\n",
    "tic = time.time()\n",
    "\n",
    "subrank = get_subrank(S, G, walk_visited_count, nodelist)\n",
    "\n",
    "toc = time.time()\n",
    "print(f'performed random walks in {toc-tic} seconds')\n",
    "\n",
    "# computing the L1 error\n",
    "error_S_subrank = sum( abs(p_S[node] - subrank[node])\n",
    "                      for node in S_nodes )\n",
    "\n",
    "print(f'error pagerank vs subrank in S = {error_S_subrank}')"
   ]
  },
  {
   "cell_type": "markdown",
   "id": "a929d6dc-37ef-4a4a-bc9c-c37bdafd012a",
   "metadata": {},
   "source": [
    "## Step 6: Approximate Pagerank over $S$ using Monte-Carlo naive recomputation\n",
    "\n",
    "Run the Monte-Carlo Pagerank algorithm on $S$ as a reference for the number of random walks required and the error achieved."
   ]
  },
  {
   "cell_type": "code",
   "execution_count": 20,
   "id": "14907960-116b-405d-9f73-85e625958050",
   "metadata": {
    "ExecuteTime": {
     "end_time": "2024-07-30T10:10:09.835445Z",
     "start_time": "2024-07-30T10:10:09.828723Z"
    }
   },
   "outputs": [
    {
     "name": "stdout",
     "output_type": "stream",
     "text": [
      "computing naive monte-carlo pagerank over S\n",
      "progress = 100%       \r\n",
      "Total walks performed:  5000\n",
      "finished in 0.010932207107543945 seconds\n",
      "error pagerank vs mc pagerank in S = 0.020285385444477645\n"
     ]
    }
   ],
   "source": [
    "# computing the monte-carlo pagerank \n",
    "print('computing naive monte-carlo pagerank over S')\n",
    "tic = time.time()\n",
    "\n",
    "_, mc_pagerank_S_naive = get_mc_pagerank(S,R)\n",
    "\n",
    "toc = time.time()\n",
    "print(f'finished in {toc-tic} seconds')\n",
    "\n",
    "# computing the L1 error\n",
    "error_S_naive = sum( abs(p_S[node] - mc_pagerank_S_naive[node])\n",
    "                      for node in S.nodes())\n",
    "\n",
    "print(f'error pagerank vs mc pagerank in S = {error_S_naive}')"
   ]
  },
  {
   "cell_type": "code",
   "execution_count": null,
   "outputs": [],
   "source": [],
   "metadata": {
    "collapsed": false
   },
   "id": "9387d4e26e992252"
  }
 ],
 "metadata": {
  "kernelspec": {
   "display_name": "Python 3 (ipykernel)",
   "language": "python",
   "name": "python3"
  },
  "language_info": {
   "codemirror_mode": {
    "name": "ipython",
    "version": 3
   },
   "file_extension": ".py",
   "mimetype": "text/x-python",
   "name": "python",
   "nbconvert_exporter": "python",
   "pygments_lexer": "ipython3",
   "version": "3.10.12"
  }
 },
 "nbformat": 4,
 "nbformat_minor": 5
}
